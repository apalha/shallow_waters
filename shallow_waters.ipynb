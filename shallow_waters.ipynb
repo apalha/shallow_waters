{
 "cells": [
  {
   "cell_type": "code",
   "execution_count": null,
   "id": "618d037e",
   "metadata": {},
   "outputs": [],
   "source": []
  },
  {
   "cell_type": "markdown",
   "id": "f02a3e49",
   "metadata": {},
   "source": [
    "\n",
    "# Structure-preserving shallow waters discretization\n",
    "\n",
    "This notebook implements a structure preserving discretization for the shallow waters equations\n",
    "using two different time integrators:\n",
    "  - A midpoint rule time integrator\n",
    "  - A Poisson time integrator\n"
   ]
  },
  {
   "cell_type": "markdown",
   "id": "22d458a4",
   "metadata": {},
   "source": [
    "\n",
    "## Load required libraries\n",
    "  - Firedrake is the main FEM library\n",
    "  - numpy is used to store diagnostics results and to save them to a file\n",
    "  - matplotlib is used for plotting the diagnostics in time\n",
    "  - os and time are use only to generate the output file in the correct place and with the nice names\n"
   ]
  },
  {
   "cell_type": "code",
   "execution_count": 1,
   "id": "4f172643",
   "metadata": {},
   "outputs": [
    {
     "name": "stderr",
     "output_type": "stream",
     "text": [
      "firedrake:WARNING OMP_NUM_THREADS is not set or is set to a value greater than 1, we suggest setting OMP_NUM_THREADS=1 to improve performance\n"
     ]
    }
   ],
   "source": [
    "import firedrake\n",
    "import numpy\n",
    "import os\n",
    "import time\n",
    "\n",
    "from matplotlib import pyplot"
   ]
  },
  {
   "cell_type": "markdown",
   "id": "657ac898",
   "metadata": {},
   "source": [
    "\n",
    "## Environment setup\n",
    "Generate folder where to save each run (they are saved inside results folder and named by time of run)\n"
   ]
  },
  {
   "cell_type": "code",
   "execution_count": 2,
   "id": "ee0b8662",
   "metadata": {},
   "outputs": [],
   "source": [
    "results_path = './results/' + time.strftime('%Y_%m_%d_%H_%M_%S', time.localtime()) + \"/\"\n",
    "if not os.path.exists(results_path):\n",
    "    os.makedirs(results_path)"
   ]
  },
  {
   "cell_type": "markdown",
   "id": "a53f6359",
   "metadata": {},
   "source": [
    "## Parameters "
   ]
  },
  {
   "cell_type": "markdown",
   "id": "928a71e0",
   "metadata": {},
   "source": [
    "### Spatial discretization\n"
   ]
  },
  {
   "cell_type": "code",
   "execution_count": 3,
   "id": "2b625a24",
   "metadata": {},
   "outputs": [],
   "source": [
    "Lx = 1.0  # domain size in the x-direction\n",
    "Ly = 1.0  # domain size in the y-direction\n",
    "n_elements = 10  # number of subdivisions in x- and y-directions\n",
    "p = 1  # polynomial degree of de Rham complex"
   ]
  },
  {
   "cell_type": "markdown",
   "id": "ba651c52",
   "metadata": {},
   "source": [
    "### Temporal discretization\n",
    "You can seet the time integrator to use, the time step, and the number of time steps."
   ]
  },
  {
   "cell_type": "code",
   "execution_count": 4,
   "id": "b71e9848",
   "metadata": {},
   "outputs": [],
   "source": [
    "time_integrator = \"poisson\"  # you can choose either \"midpoint\" or \"poisson\" \n",
    "dt = 0.01  # time step size\n",
    "n_t_steps = 200  # number of time steps to compute"
   ]
  },
  {
   "cell_type": "markdown",
   "id": "6ef2aa6d",
   "metadata": {},
   "source": [
    "### Nonlinear solver parameters\n"
   ]
  },
  {
   "cell_type": "code",
   "execution_count": 5,
   "id": "735c720b",
   "metadata": {},
   "outputs": [],
   "source": [
    "newton_tol = 1e-10  # tolerance to reach to finish Newton-Raphson nonlinear solve step\n",
    "newton_max_iter = 20  # maximum number of iterations to perform per Newton-Raphson solve step"
   ]
  },
  {
   "cell_type": "markdown",
   "id": "ff4f1da6",
   "metadata": {},
   "source": [
    "### Linear solver parameters\n",
    "Simply use a direct solver\n"
   ]
  },
  {
   "cell_type": "code",
   "execution_count": 6,
   "id": "55470431",
   "metadata": {},
   "outputs": [],
   "source": [
    "MUMPS = {\n",
    "        \"snes_monitor\": None,\n",
    "        \"snes_max_it\":1000,\n",
    "        \"ksp_type\": \"preonly\",\n",
    "        \"mat_type\": \"aij\",\n",
    "        \"pc_type\": \"lu\",\n",
    "        \"pc_factor_mat_solver_type\": \"mumps\"\n",
    "        }"
   ]
  },
  {
   "cell_type": "markdown",
   "id": "3e0fc127",
   "metadata": {},
   "source": [
    "### Internal auxiliary definitions\n"
   ]
  },
  {
   "cell_type": "code",
   "execution_count": 7,
   "id": "2928ddf7",
   "metadata": {
    "lines_to_next_cell": 1
   },
   "outputs": [],
   "source": [
    "g = 10.0  # gravitational acceleration"
   ]
  },
  {
   "cell_type": "markdown",
   "id": "8954c1b2",
   "metadata": {},
   "source": [
    "## Initial conditions\n"
   ]
  },
  {
   "cell_type": "markdown",
   "id": "35f19fe2",
   "metadata": {},
   "source": [
    "### Initial conditions for fluid elevation: h(t = 0)\n"
   ]
  },
  {
   "cell_type": "code",
   "execution_count": 8,
   "id": "8da4e2e0",
   "metadata": {
    "lines_to_next_cell": 1
   },
   "outputs": [],
   "source": [
    "def h_0_lambda(x, y):\n",
    "    sigma = 0.05\n",
    "    amplitude = 0.01\n",
    "    return firedrake.Constant(1.0) + amplitude*firedrake.exp(-0.5*((x - 0.5*Lx)**2)/sigma**2)*(1.0/(sigma*firedrake.sqrt(2.0*numpy.pi))) * firedrake.exp(-0.5*((y - 0.5*Ly)**2)/sigma**2)*(1.0/(sigma*firedrake.sqrt(2.0*numpy.pi)))"
   ]
  },
  {
   "cell_type": "markdown",
   "id": "70511bbf",
   "metadata": {},
   "source": [
    "### Initial conditions for fluid velocity: u(t = 0)\n"
   ]
  },
  {
   "cell_type": "code",
   "execution_count": 9,
   "id": "c8c5267e",
   "metadata": {
    "lines_to_next_cell": 1
   },
   "outputs": [],
   "source": [
    "def u_0_lambda(x, y):\n",
    "    return firedrake.as_vector([firedrake.Constant(0.0), firedrake.Constant(0.0)])\n",
    "\n",
    "\n",
    "\n",
    "sol_outfile = firedrake.VTKFile(results_path + \"shallow_waters.pvd\")  # file name where to solve solution for plotting"
   ]
  },
  {
   "cell_type": "markdown",
   "id": "2e124ff7",
   "metadata": {},
   "source": [
    "## Auxiliary functions extending Firedrake's functionality\n",
    "Implements specific functions required for 2D computations and not directly available in Firedrake:\n",
    "\n",
    "The rotational (curl of a scalar $w$, i.e., a vector $w \\vec{e}_{z}$)\n",
    " $$\n",
    " \\mathrm{rot}(w) := \\frac{\\partial w}{\\partial y}\\vec{e}_{x} - \\frac{\\partial w}{\\partial x}\\vec{e}_{y}\n",
    " $$\n",
    "\n",
    "The cross product ($\\times$) between two vectors $\\vec{u}$ and $\\vec{v}$ in 2D\n",
    "\n",
    "$$\n",
    "\\vec{u} \\times \\vec{v} := u_{x}v_{y} - u_{y}v_{x}\n",
    "$$\n",
    "\n",
    "The cross product between a scalar $w$, i.e., a vector $w \\vec{e}_{z}$, and a vector $\\vec{v}$ in 2D\n",
    "\n",
    "$$\n",
    "w \\times \\vec{v} := -w v_{y}\\vec{e}_{x} + w v_{x}\\vec{e}_{y}\n",
    "$$"
   ]
  },
  {
   "cell_type": "code",
   "execution_count": 10,
   "id": "b6c37540",
   "metadata": {
    "lines_to_next_cell": 1
   },
   "outputs": [],
   "source": [
    "\n",
    "# Triple product (not used in the end)\n",
    "def triple_product(w, u, v):\n",
    "    return w*u[0]*v[1]-w*u[1]*v[0]\n",
    "\n",
    "# Rot\n",
    "def rot(w):\n",
    "    return firedrake.as_vector([w.dx(1),-w.dx(0)])\n",
    "\n",
    "# Cross product in 2D\n",
    "def cross_2d(u, v):\n",
    "    return u[0]*v[1]-u[1]*v[0]\n",
    "\n",
    "# Corss product between a scalar (vector in z-direction) and a vector in 2D\n",
    "def cross_scalar(w, v):\n",
    "    return firedrake.as_vector([-w*v[1], w*v[0]])"
   ]
  },
  {
   "cell_type": "markdown",
   "id": "ba4ef3fb",
   "metadata": {},
   "source": [
    "## Construct the mesh\n",
    "Constructs a periodic quadrilateral mesh with `n_elements` $\\times$ `n_elements` over a rectangular \n",
    "domain of dimensions `Lx` $\\times$ `Ly`.\n",
    "\n",
    "You can make a triangular mesh by setting `quadrilateral=False`. If you do this, you need to change the \n",
    "function space `D` below (see instructions there)."
   ]
  },
  {
   "cell_type": "code",
   "execution_count": 11,
   "id": "56ec1771",
   "metadata": {},
   "outputs": [],
   "source": [
    "mesh = firedrake.PeriodicRectangleMesh(n_elements, n_elements, Lx, Ly, quadrilateral=True) \n",
    "x, y = firedrake.SpatialCoordinate(mesh)  # these are the coordinate variables of the mesh, necessary to use in expressions\n",
    "n_vector = firedrake.FacetNormal(mesh)  # the normal vectors at the mesh cell interfaces (not used in this case)"
   ]
  },
  {
   "cell_type": "markdown",
   "id": "38d88f38",
   "metadata": {},
   "source": [
    "## Define the function spaces and the solution fields\n",
    "Firedrake (and most FEM solvers) work in a similar to how the problem is setup analytically. You need to:\n",
    "  1. Define the function spaces\n",
    "  2. Define your unknown fields as element of these spaces\n",
    "  3. Setup mixed spaces (collection of several spaces) to solve a problem with several unknown fields   \n",
    "\n",
    "The first two steps we perform here, the other one we perform inside the function that implement each time integrator.\n",
    "This was chosen because some time integrators may require different solves and therefore different mixed spaces.\n",
    "This is just a technical detail of the specific implementation in Firedrake.\n"
   ]
  },
  {
   "cell_type": "markdown",
   "id": "ebd10bc9",
   "metadata": {},
   "source": [
    "### Define the function spaces for the de Rham complex of degree p\n",
    "As discussed in the lectures we will need a set of spaces from a discrete de Rham complex.\n",
    "This is what is done here using some of the spaces available in Firedrake. Note that this \n",
    "specific choice of spaces we make here leads to the correct polynomials degrees, i.e.,\n",
    "\n",
    "$$\n",
    "\\mathbb{R} \\xhookrightarrow{} G \\stackrel{\\nabla\\times}{\\longrightarrow} D \\stackrel{\\nabla\\cdot}{\\longrightarrow} S \\longrightarrow 0\n",
    "$$\n",
    "\n",
    "and the polynomial degrees for each component in x- and y-directions are\n",
    "\n",
    "$$\n",
    "(p, p) \\stackrel{\\nabla\\times}{\\longrightarrow} (p, p-1) \\times (p-1, p) \\stackrel{\\nabla\\cdot}{\\longrightarrow} (p-1, p-1)\n",
    "$$\n",
    "\n",
    "__NOTE__: If you chose triangular mesh above, by setting `quadrilateral=True`, then you need to change the `D` space\n",
    "to be spanned by the Raviart-Thomas elements by using the line\n",
    "```python\n",
    "D = firedrake.FunctionSpace(mesh, \"RT\", p)\n",
    "```"
   ]
  },
  {
   "cell_type": "code",
   "execution_count": 12,
   "id": "30d771f9",
   "metadata": {},
   "outputs": [],
   "source": [
    "G = firedrake.FunctionSpace(mesh, \"CG\", p)  # standard continuous Galerkin elements (nodal interpolants) of degree (p,p), G \\subset H^{1}\n",
    "D = firedrake.FunctionSpace(mesh, \"RTCF\", p)  # mimetic flux edge basis functions (in 2D) of degree (p, p-1) x (p-1, p), D \\subset H(div)\n",
    "S = firedrake.FunctionSpace(mesh, \"DQ L2\", p - 1)  # standard discontinuous Galerkin elements of degree (p-1, p-1), S \\subset L^{2}"
   ]
  },
  {
   "cell_type": "markdown",
   "id": "1cd5ee08",
   "metadata": {},
   "source": [
    "### Setup solution fields \n",
    "Throughout this code we use the following notation\n",
    "  - the subscript 0 refers to the current time step solution (known field value)\n",
    "  - the subscript 1 refers to the next time step solution (unknown field value)\n",
    "  - for the prognostic variables ($\\vec{u}$ and $h$) the subscripts correspond to the\n",
    "    integer time steps: $t$ and $t + \\Delta t$.\n",
    "  - for the diagnostic variables ($vec{F}#, $q$, $K$) the subscripts correspond to the\n",
    "    fractional time steps: $t - \\frac{1}{2}\\Delta t$ and $t + \\frac{1}{2}\\Delta t$.\n"
   ]
  },
  {
   "cell_type": "code",
   "execution_count": 13,
   "id": "cf66cb4a",
   "metadata": {},
   "outputs": [],
   "source": [
    "# Velocity field\n",
    "u_0 = firedrake.Function(D)  # current time step\n",
    "u_1 = firedrake.Function(D)  # next time step\n",
    "\n",
    "# Fluid depth field\n",
    "h_0 = firedrake.Function(S)  # current time step\n",
    "h_1 = firedrake.Function(S)  # next time step\n",
    "\n",
    "# Potential vorticity field\n",
    "q_0 = firedrake.Function(G)  # current time step\n",
    "q_1 = firedrake.Function(G)  # next time step\n",
    "\n",
    "# Mass flux\n",
    "F_0 = firedrake.Function(D)  # current time step\n",
    "F_1 = firedrake.Function(D)  # next time step\n",
    "\n",
    "# Kinetic energy\n",
    "K_0 = firedrake.Function(S)  # current time step\n",
    "K_1 = firedrake.Function(S)  # next time step\n",
    "\n",
    "# Assign names to the fields for saving to VTK file with nice names\n",
    "u_1.rename(\"Velocity\", \"Velocity\")\n",
    "q_1.rename(\"Potential vorticity\",\"Potential vorticity\")\n",
    "h_1.rename(\"Fluid depth\",\"Fluid depth\")\n",
    "F_1.rename(\"Mass flux\",\"Mass flux\")\n",
    "K_1.rename(\"Kinetic energy\",\"Kinetic energy\")"
   ]
  },
  {
   "cell_type": "markdown",
   "id": "88ca9635",
   "metadata": {},
   "source": [
    "## Define the time integrators\n"
   ]
  },
  {
   "cell_type": "markdown",
   "id": "b79f130d",
   "metadata": {},
   "source": [
    "### Define the midpoint integrator one-step evolution function\n"
   ]
  },
  {
   "cell_type": "code",
   "execution_count": 14,
   "id": "feaf6690",
   "metadata": {
    "lines_to_next_cell": 1
   },
   "outputs": [],
   "source": [
    "def advance_mid_point_newton(u_0, u_1, h_0, h_1, q_0, q_1, K_0, K_1, F_0, F_1, G, D, S, dt):\n",
    "    # Note that here the unknowns are:\n",
    "    #   u^{k+1}, h^{k+1}, q^{k+1} --> All at the next time step as for the midpoint rule\n",
    "    #   F^{k+1/2}, K^{k + 1/2}  --> These two are computed at the midpoint\n",
    "    #                               F^{k+1/2} = F_1 and K^{k+1/2} = K_1\n",
    "    #                               F^{k-1/2} = F_0 and K^{k-1/2} = K_0\n",
    "\n",
    "    # Setup the mixed space and the trial and test functions\n",
    "    M = D * S * G * S * D  # (u, h, q, K, F)\n",
    "    mixed_u_trial, mixed_h_trial, mixed_q_trial, mixed_K_trial, mixed_F_trial = firedrake.TrialFunctions(M)\n",
    "    mixed_u_test, mixed_h_test, mixed_q_test, mixed_K_test, mixed_F_test = firedrake.TestFunctions(M)\n",
    "\n",
    "    # Define the update solution for the Newton-Rapshon iterative solve\n",
    "    dsol = firedrake.Function(M)  # Newton correction\n",
    "    du, dh, dq, dK, dF = dsol.subfunctions\n",
    "\n",
    "    # Define temporary solution for updating the solution during Newton-Raphson method (this is very much Firedrake dependent)\n",
    "    sol_temp = firedrake.Function(M)  # temporary next time step for fixed-point error computation\n",
    "    u_temp, h_temp, q_temp, K_temp, F_temp = sol_temp.subfunctions\n",
    "\n",
    "    # Initialyze Newton-Raphson iteration\n",
    "    newton_iter = 1\n",
    "    newton_error = 1.0\n",
    "\n",
    "    # Print columns labels of Newton-Raphson output information\n",
    "    print(\"                           u         |           h         |           q         |           K         |            F\")\n",
    "        \n",
    "    while (newton_error > newton_tol) and (newton_iter < newton_max_iter):\n",
    "        # Setup Newton method\n",
    "\n",
    "        # Right hand side\n",
    "        F = firedrake.inner(u_1 - u_0, mixed_u_test)*firedrake.dx + \\\n",
    "            dt*firedrake.inner(cross_scalar(q_1, F_1), mixed_u_test)*firedrake.dx - \\\n",
    "            dt*firedrake.inner(K_1, firedrake.div(mixed_u_test))*firedrake.dx - \\\n",
    "            0.5*g*dt*firedrake.inner(h_0 + h_1, firedrake.div(mixed_u_test))*firedrake.dx + \\\n",
    "            firedrake.inner(h_1 - h_0, mixed_h_test)*firedrake.dx + \\\n",
    "            0.5*dt*firedrake.inner(firedrake.div(F_1), mixed_h_test)*firedrake.dx + \\\n",
    "            firedrake.inner(0.5*(h_1+ h_0)*q_1, mixed_q_test)*firedrake.dx - \\\n",
    "            firedrake.inner(0.5*(u_1 + u_0), rot(mixed_q_test))*firedrake.dx + \\\n",
    "            firedrake.inner(K_1, mixed_K_test)*firedrake.dx - \\\n",
    "            0.5*firedrake.inner(0.5*(u_1 + u_0), 0.5*(u_1 + u_0)*mixed_K_test)*firedrake.dx + \\\n",
    "            firedrake.inner(F_1, mixed_F_test)*firedrake.dx - \\\n",
    "            firedrake.inner(0.5*(h_1*u_1 + h_0*u_0), mixed_F_test)*firedrake.dx\n",
    "        \n",
    "        # Jacobian\n",
    "        a = firedrake.inner(mixed_u_trial, mixed_u_test)*firedrake.dx + \\\n",
    "            0.5*dt*firedrake.inner(cross_scalar(mixed_q_trial, F_1), mixed_u_test)*firedrake.dx + \\\n",
    "            0.5*dt*firedrake.inner(cross_scalar(q_0 + q_1, mixed_F_trial), mixed_u_test)*firedrake.dx - \\\n",
    "            0.5*dt*firedrake.inner(mixed_K_trial, firedrake.div(mixed_u_test))*firedrake.dx - \\\n",
    "            0.5*g*dt*firedrake.inner(mixed_h_trial, firedrake.div(mixed_u_test))*firedrake.dx + \\\n",
    "            firedrake.inner(mixed_h_trial, mixed_h_test)*firedrake.dx + \\\n",
    "            0.5*dt*firedrake.inner(firedrake.div(mixed_F_trial), mixed_h_test)*firedrake.dx + \\\n",
    "            0.5*firedrake.inner(mixed_h_trial*q_1, mixed_q_test)*firedrake.dx + \\\n",
    "            0.5*firedrake.inner((h_1 + h_0)*mixed_q_trial, mixed_q_test)*firedrake.dx - \\\n",
    "            0.5*firedrake.inner(mixed_u_trial, rot(mixed_q_test))*firedrake.dx + \\\n",
    "            firedrake.inner(mixed_K_trial, mixed_K_test)*firedrake.dx - \\\n",
    "            firedrake.inner(0.5*mixed_u_trial, 0.5*(u_1 + u_0)*mixed_K_test)*firedrake.dx + \\\n",
    "            firedrake.inner(mixed_F_trial, mixed_F_test)*firedrake.dx - \\\n",
    "            0.5*firedrake.inner(mixed_h_trial*u_1, mixed_F_test)*firedrake.dx - \\\n",
    "            0.5*firedrake.inner(h_1*mixed_u_trial, mixed_F_test)*firedrake.dx\n",
    "\n",
    "        # Solve fixed point update step\n",
    "        A = firedrake.assemble(a)\n",
    "        b = firedrake.assemble(F)\n",
    "\n",
    "        firedrake.solve(A, dsol.vector(), b, solver_parameters=MUMPS)\n",
    "\n",
    "        # Compute Newton error \n",
    "        newton_error_u = firedrake.norm(du)\n",
    "        newton_error_h = firedrake.norm(dh)\n",
    "        newton_error_q = firedrake.norm(dq)\n",
    "        newton_error_K = firedrake.norm(dK)\n",
    "        newton_error_F = firedrake.norm(dF)\n",
    "        newton_error = newton_error_u + newton_error_h + newton_error_q + newton_error_K + newton_error_F\n",
    "\n",
    "        print(\"   Newton error: {newton_error_u:19.16f} | {newton_error_h:19.16f} | {newton_error_q:19.16f} | \"\\\n",
    "                \"{newton_error_K:19.16f} | {newton_error_F:19.16f}\".format(newton_error_u=newton_error_u, \\\n",
    "                newton_error_h=newton_error_h, newton_error_q=newton_error_q, newton_error_K=newton_error_K, \\\n",
    "                newton_error_F=newton_error_F))\n",
    "        \n",
    "        # Update solution\n",
    "        u_temp.vector()[:] = u_1.vector()[:] - du.vector()[:]\n",
    "        h_temp.vector()[:] = h_1.vector()[:] - dh.vector()[:]\n",
    "        q_temp.vector()[:] = q_1.vector()[:] - dq.vector()[:]\n",
    "        K_temp.vector()[:] = K_1.vector()[:] - dK.vector()[:]\n",
    "        F_temp.vector()[:] = F_1.vector()[:] - dF.vector()[:]\n",
    "\n",
    "        u_1.assign(u_temp)\n",
    "        h_1.assign(h_temp)\n",
    "        q_1.assign(q_temp)\n",
    "        K_1.assign(K_temp)\n",
    "        F_1.assign(F_temp)"
   ]
  },
  {
   "cell_type": "markdown",
   "id": "a0a6d91e",
   "metadata": {},
   "source": [
    "### Define the Poisson integrator one-step evolution function\n"
   ]
  },
  {
   "cell_type": "code",
   "execution_count": 15,
   "id": "0e12965b",
   "metadata": {},
   "outputs": [],
   "source": [
    "def advance_poisson_newton(u_0, u_1, h_0, h_1, q_0, q_1, K_0, K_1, F_0, F_1, G, D, S, dt):\n",
    "    # Note that here the unknowns are:\n",
    "    #   u^{k+1}, h^{k+1}, q^{k+1} --> All at the next time step as for the midpoint rule\n",
    "    #   F^{k+1/2}, K^{k + 1/2}  --> These two are computed at the midpoint with a symmetrizing average\n",
    "    #                               F^{k+1/2} = F_1 and K^{k+1/2} = K_1\n",
    "    #                               F^{k-1/2} = F_0 and K^{k-1/2} = K_0\n",
    "\n",
    "    M = D * S * G * S * D  # (u, h, q, K, F)\n",
    "    mixed_u_trial, mixed_h_trial, mixed_q_trial, mixed_K_trial, mixed_F_trial = firedrake.TrialFunctions(M)\n",
    "    mixed_u_test, mixed_h_test, mixed_q_test, mixed_K_test, mixed_F_test = firedrake.TestFunctions(M)\n",
    "\n",
    "    dsol = firedrake.Function(M)  # Newton correction\n",
    "    du, dh, dq, dK, dF = dsol.subfunctions\n",
    "\n",
    "    sol_temp = firedrake.Function(M)  # temporary next time step for fixed-point error computation\n",
    "    u_temp, h_temp, q_temp, K_temp, F_temp = sol_temp.subfunctions\n",
    "\n",
    "    newton_iter = 1\n",
    "    newton_error = 1.0\n",
    "\n",
    "    # Print columns labels of Newton-Raphson output information\n",
    "    print(\"                           u         |           h         |           q         |           K         |            F\")\n",
    "        \n",
    "    while (newton_error > newton_tol) and (newton_iter < newton_max_iter):\n",
    "\n",
    "        # Setup Newton method\n",
    "        \n",
    "        # Right hand side\n",
    "        F = firedrake.inner(u_1 - u_0, mixed_u_test)*firedrake.dx + \\\n",
    "            0.5*dt*firedrake.inner(cross_scalar(q_0 + q_1, F_1), mixed_u_test)*firedrake.dx - \\\n",
    "            dt*firedrake.inner(K_1, firedrake.div(mixed_u_test))*firedrake.dx - \\\n",
    "            0.5*g*dt*firedrake.inner(h_0 + h_1, firedrake.div(mixed_u_test))*firedrake.dx + \\\n",
    "            firedrake.inner(h_1 - h_0, mixed_h_test)*firedrake.dx + \\\n",
    "            dt*firedrake.inner(firedrake.div(F_1), mixed_h_test)*firedrake.dx + \\\n",
    "            firedrake.inner(h_1*q_1, mixed_q_test)*firedrake.dx - \\\n",
    "            firedrake.inner(u_1, rot(mixed_q_test))*firedrake.dx + \\\n",
    "            firedrake.inner(K_1, mixed_K_test)*firedrake.dx - \\\n",
    "            (1.0/6.0)*firedrake.inner(u_1, u_1*mixed_K_test)*firedrake.dx - \\\n",
    "            (1.0/6.0)*firedrake.inner(u_1, u_0*mixed_K_test)*firedrake.dx - \\\n",
    "            (1.0/6.0)*firedrake.inner(u_0, u_0*mixed_K_test)*firedrake.dx + \\\n",
    "            firedrake.inner(F_1, mixed_F_test)*firedrake.dx - \\\n",
    "            (1.0/3.0)*firedrake.inner(h_0*u_0, mixed_F_test)*firedrake.dx - \\\n",
    "            (1.0/6.0)*firedrake.inner(h_0*u_1, mixed_F_test)*firedrake.dx - \\\n",
    "            (1.0/6.0)*firedrake.inner(h_1*u_0, mixed_F_test)*firedrake.dx - \\\n",
    "            (1.0/3.0)*firedrake.inner(h_1*u_1, mixed_F_test)*firedrake.dx\n",
    "        \n",
    "        # Jacobian\n",
    "        a = firedrake.inner(mixed_u_trial, mixed_u_test)*firedrake.dx + \\\n",
    "            0.5*dt*firedrake.inner(cross_scalar(mixed_q_trial, F_1), mixed_u_test)*firedrake.dx + \\\n",
    "            0.5*dt*firedrake.inner(cross_scalar(q_0 + q_1, mixed_F_trial), mixed_u_test)*firedrake.dx - \\\n",
    "            dt*firedrake.inner(mixed_K_trial, firedrake.div(mixed_u_test))*firedrake.dx - \\\n",
    "            0.5*g*dt*firedrake.inner(mixed_h_trial, firedrake.div(mixed_u_test))*firedrake.dx + \\\n",
    "            firedrake.inner(mixed_h_trial, mixed_h_test)*firedrake.dx + \\\n",
    "            dt*firedrake.inner(firedrake.div(mixed_F_trial), mixed_h_test)*firedrake.dx + \\\n",
    "            firedrake.inner(mixed_h_trial*q_1, mixed_q_test)*firedrake.dx + \\\n",
    "            firedrake.inner(h_1*mixed_q_trial, mixed_q_test)*firedrake.dx - \\\n",
    "            firedrake.inner(mixed_u_trial, rot(mixed_q_test))*firedrake.dx + \\\n",
    "            firedrake.inner(mixed_F_trial, mixed_F_test)*firedrake.dx - \\\n",
    "            (1.0/6.0)*firedrake.inner(h_1*mixed_u_trial, mixed_F_test)*firedrake.dx - \\\n",
    "            (1.0/6.0)*firedrake.inner(mixed_h_trial*u_1, mixed_F_test)*firedrake.dx - \\\n",
    "            (1.0/3.0)*firedrake.inner(h_1*mixed_u_trial, mixed_F_test)*firedrake.dx - \\\n",
    "            (1.0/3.0)*firedrake.inner(mixed_h_trial*u_1, mixed_F_test)*firedrake.dx + \\\n",
    "            firedrake.inner(mixed_K_trial, mixed_K_test)*firedrake.dx - \\\n",
    "            (1.0/6.0)*firedrake.inner(mixed_u_trial, u_0*mixed_K_test)*firedrake.dx - \\\n",
    "            (1.0/3.0)*firedrake.inner(mixed_u_trial, u_1*mixed_K_test)*firedrake.dx\n",
    "        \n",
    "        # Solve fixed point update step\n",
    "        A = firedrake.assemble(a)\n",
    "        b = firedrake.assemble(F)\n",
    "\n",
    "        firedrake.solve(A, dsol.vector(), b, solver_parameters=MUMPS)\n",
    "\n",
    "        # Compute Newton error \n",
    "        newton_error_u = firedrake.norm(du)\n",
    "        newton_error_h = firedrake.norm(dh)\n",
    "        newton_error_q = firedrake.norm(dq)\n",
    "        newton_error_K = firedrake.norm(dK)\n",
    "        newton_error_F = firedrake.norm(dF)\n",
    "        newton_error = newton_error_u + newton_error_h + newton_error_q + newton_error_K + newton_error_F\n",
    "\n",
    "        print(\"   Newton error: {newton_error_u:19.16f} | {newton_error_h:19.16f} | {newton_error_q:19.16f} | \"\\\n",
    "                \"{newton_error_K:19.16f} | {newton_error_F:19.16f}\".format(newton_error_u=newton_error_u, \\\n",
    "                newton_error_h=newton_error_h, newton_error_q=newton_error_q, newton_error_K=newton_error_K, \\\n",
    "                newton_error_F=newton_error_F))\n",
    "        \n",
    "        # Update solution\n",
    "        u_temp.vector()[:] = u_1.vector()[:] - du.vector()[:]\n",
    "        h_temp.vector()[:] = h_1.vector()[:] - dh.vector()[:]\n",
    "        q_temp.vector()[:] = q_1.vector()[:] - dq.vector()[:]\n",
    "        K_temp.vector()[:] = K_1.vector()[:] - dK.vector()[:]\n",
    "        F_temp.vector()[:] = F_1.vector()[:] - dF.vector()[:]\n",
    "\n",
    "        u_1.assign(u_temp)\n",
    "        h_1.assign(h_temp)\n",
    "        q_1.assign(q_temp)\n",
    "        K_1.assign(K_temp)\n",
    "        F_1.assign(F_temp)"
   ]
  },
  {
   "cell_type": "markdown",
   "id": "81efe4a3",
   "metadata": {},
   "source": [
    "## Start time evolution\n"
   ]
  },
  {
   "cell_type": "markdown",
   "id": "0bb6ce23",
   "metadata": {},
   "source": [
    "### Setup the initial conditions"
   ]
  },
  {
   "cell_type": "code",
   "execution_count": 16,
   "id": "9fbfe864",
   "metadata": {},
   "outputs": [
    {
     "data": {
      "text/plain": [
       "Coefficient(WithGeometry(FunctionSpace(<firedrake.mesh.MeshTopology object at 0x126653c10>, FiniteElement('DQ L2', quadrilateral, 0), name=None), Mesh(VectorElement(FiniteElement('DQ', quadrilateral, 1, variant='equispaced'), dim=2, variant='equispaced'), 6)), 12)"
      ]
     },
     "execution_count": 16,
     "metadata": {},
     "output_type": "execute_result"
    }
   ],
   "source": [
    "u_0 = firedrake.Function(D).project(u_0_lambda(x, y))\n",
    "h_0 = firedrake.Function(S).project(h_0_lambda(x, y))\n",
    "\n",
    "u_1.assign(u_0)\n",
    "h_1.assign(h_0)"
   ]
  },
  {
   "cell_type": "markdown",
   "id": "a5cb81ef",
   "metadata": {},
   "source": [
    "### Allocate memory for simulation diagnostics\n",
    "During time evolution we will compute the kinetic energy $K$, potential energy $P$, total energy $E$,\n",
    "enstrophy $E$, and total volume $V$.\n"
   ]
  },
  {
   "cell_type": "code",
   "execution_count": 17,
   "id": "bacf0559",
   "metadata": {},
   "outputs": [],
   "source": [
    "energy_K = numpy.zeros(n_t_steps)\n",
    "energy_P = numpy.zeros(n_t_steps)\n",
    "energy = numpy.zeros(n_t_steps)\n",
    "enstrophy = numpy.zeros(n_t_steps)\n",
    "volume = numpy.zeros(n_t_steps)"
   ]
  },
  {
   "cell_type": "markdown",
   "id": "2ccfa491",
   "metadata": {},
   "source": [
    "### Export the initial condition to paraview \n",
    "The solution at each time step will be exported to paraview for visualization, we start with the initial condition \n",
    "Note that the diagnostic variables $q$, $K$, and $\\vec{F}$ are zero at the first time step, simply because \n",
    "we do not compute them at the start point, as you recall we compute them at fractional time steps, therefore \n",
    "there is asynchrocity, we chose leave the first value of these variables at zero.\n"
   ]
  },
  {
   "cell_type": "code",
   "execution_count": 18,
   "id": "946ab2d7",
   "metadata": {},
   "outputs": [],
   "source": [
    "sol_outfile.write(u_1, h_1, q_1, K_1, F_1, time = 0.0)"
   ]
  },
  {
   "cell_type": "markdown",
   "id": "5605189f",
   "metadata": {},
   "source": [
    "## Advance solution in time\n",
    "Here we advance the solution in time using either of\n",
    "  - the midpoint rule time integrator \n",
    "  - Poisson time integrator\n",
    "\n",
    "You can select which to use by setting the variable \n",
    "  - `time_integrator = \"midpoint\"`\n",
    "  - `time_integrator = \"poisson\"`\n",
    "\n",
    "see above."
   ]
  },
  {
   "cell_type": "code",
   "execution_count": 19,
   "id": "cae8d5d0",
   "metadata": {},
   "outputs": [
    {
     "name": "stdout",
     "output_type": "stream",
     "text": [
      "\n",
      "T step: 0\n",
      "                           u         |           h         |           q         |           K         |            F\n",
      "   Newton error:  0.0671836018201799 |  0.0085113390204765 |  0.0000000000000034 |  0.0000000000000000 |  0.0377723028290415\n",
      "   Newton error:  0.0002641363941104 |  0.0000546619503705 |  0.0000000000000059 |  0.0023378096948622 |  0.0001854712100644\n",
      "   Newton error:  0.0000001488253036 |  0.0000001047774606 |  0.0000000000000066 |  0.0000000233850671 |  0.0000004834875910\n",
      "   Newton error:  0.0000000004032796 |  0.0000000002555557 |  0.0000000000000087 |  0.0000000000193386 |  0.0000000008844551\n",
      "   Newton error:  0.0000000000006074 |  0.0000000000003762 |  0.0000000000000091 |  0.0000000000000185 |  0.0000000000016698\n",
      "\n",
      "                          K+P        |           K         |           P         |           E         |            V\n",
      "   Diagnostics :  2.5564783019410542 |  0.0025339245297478 |  2.5539443774113062 |  0.0000000000000000 |  1.0100000001716030\n",
      "   [t] - [t-dt]:  2.5564783019410542 |  0.0025339245297478 |  2.5539443774113062 |  0.0000000000000000 |  1.0100000001716030\n",
      "   [t] - [0]   :  0.0000000000000000 |  0.0000000000000000 |  0.0000000000000000 |  0.0000000000000000 |  0.0000000000000000\n",
      "\n",
      "T step: 1\n",
      "                           u         |           h         |           q         |           K         |            F\n",
      "   Newton error:  0.0411759239769513 |  0.0198815221577965 |  0.0000000000000041 |  0.0084016572168548 |  0.0576512989902249\n",
      "   Newton error:  0.0001145779698917 |  0.0000912888530389 |  0.0000000000000063 |  0.0007626901904009 |  0.0003056248424391\n",
      "   Newton error:  0.0000001410415830 |  0.0000001266145128 |  0.0000000000000077 |  0.0000000081077836 |  0.0000007628960647\n",
      "   Newton error:  0.0000000003123187 |  0.0000000002305173 |  0.0000000000000077 |  0.0000000000366989 |  0.0000000009833334\n",
      "   Newton error:  0.0000000000004691 |  0.0000000000003064 |  0.0000000000000061 |  0.0000000000000179 |  0.0000000000015242\n",
      "\n",
      "                          K+P        |           K         |           P         |           E         |            V\n",
      "   Diagnostics :  2.5582518674335044 |  0.0060810555146504 |  2.5521708119188542 |  0.0000000000000000 |  1.0100000001716023\n",
      "   [t] - [t-dt]:  0.0017735654924502 |  0.0035471309849026 | -0.0017735654924520 |  0.0000000000000000 | -0.0000000000000007\n",
      "   [t] - [0]   :  0.0017735654924502 |  0.0035471309849026 | -0.0017735654924520 |  0.0000000000000000 | -0.0000000000000007\n",
      "\n",
      "T step: 2\n",
      "                           u         |           h         |           q         |           K         |            F\n",
      "   Newton error:  0.0368714779141032 |  0.0202762668780258 |  0.0000000000000045 |  0.0048901321913106 |  0.0327373686007659\n",
      "   Newton error:  0.0000800806268854 |  0.0000349363897718 |  0.0000000000000073 |  0.0004668972440411 |  0.0002593355106427\n",
      "   Newton error:  0.0000001531882819 |  0.0000000900172137 |  0.0000000000000075 |  0.0000000134405581 |  0.0000003386278244\n",
      "   Newton error:  0.0000000002321448 |  0.0000000001908965 |  0.0000000000000059 |  0.0000000000261835 |  0.0000000009720053\n",
      "   Newton error:  0.0000000000003263 |  0.0000000000002964 |  0.0000000000000070 |  0.0000000000000430 |  0.0000000000019435\n",
      "\n",
      "                          K+P        |           K         |           P         |           E         |            V\n",
      "   Diagnostics :  2.5585567142434344 |  0.0066907491345125 |  2.5518659651089219 |  0.0000000000000000 |  1.0100000001716012\n",
      "   [t] - [t-dt]:  0.0003048468099300 |  0.0006096936198621 | -0.0003048468099323 |  0.0000000000000000 | -0.0000000000000011\n",
      "   [t] - [0]   :  0.0020784123023803 |  0.0041568246047647 | -0.0020784123023843 |  0.0000000000000000 | -0.0000000000000018\n",
      "\n",
      "T step: 3\n",
      "                           u         |           h         |           q         |           K         |            F\n",
      "   Newton error:  0.0513077723142187 |  0.0163217208440350 |  0.0000000000000035 |  0.0066215609711748 |  0.0457920661368425\n",
      "   Newton error:  0.0000944008872178 |  0.0000975908957043 |  0.0000000000000063 |  0.0009588193524938 |  0.0005034036233440\n",
      "   Newton error:  0.0000003301660515 |  0.0000002523019467 |  0.0000000000000071 |  0.0000000288155835 |  0.0000011902779319\n",
      "   Newton error:  0.0000000010598389 |  0.0000000008379940 |  0.0000000000000068 |  0.0000000000925690 |  0.0000000040939765\n",
      "   Newton error:  0.0000000000035766 |  0.0000000000028233 |  0.0000000000000069 |  0.0000000000003115 |  0.0000000000139260\n",
      "\n",
      "                          K+P        |           K         |           P         |           E         |            V\n",
      "   Diagnostics :  2.5582685657567050 |  0.0061144521610525 |  2.5521541135956527 |  0.0000000000000000 |  1.0100000001716016\n",
      "   [t] - [t-dt]: -0.0002881484867294 | -0.0005762969734600 |  0.0002881484867308 |  0.0000000000000000 |  0.0000000000000004\n",
      "   [t] - [0]   :  0.0017902638156508 |  0.0035805276313047 | -0.0017902638156535 |  0.0000000000000000 | -0.0000000000000013\n",
      "\n",
      "T step: 4\n",
      "                           u         |           h         |           q         |           K         |            F\n",
      "   Newton error:  0.0525746185104080 |  0.0160326576605844 |  0.0000000000000051 |  0.0075394383877876 |  0.0527356932260933\n",
      "   Newton error:  0.0000985476695136 |  0.0000812250727692 |  0.0000000000000078 |  0.0009681416860711 |  0.0004755257384040\n",
      "   Newton error:  0.0000003809265378 |  0.0000002512926516 |  0.0000000000000069 |  0.0000000169138092 |  0.0000009138748267\n",
      "   Newton error:  0.0000000008635611 |  0.0000000005892813 |  0.0000000000000072 |  0.0000000000446225 |  0.0000000022169704\n",
      "   Newton error:  0.0000000000018622 |  0.0000000000012413 |  0.0000000000000078 |  0.0000000000000952 |  0.0000000000045984\n",
      "\n",
      "                          K+P        |           K         |           P         |           E         |            V\n",
      "   Diagnostics :  2.5581337193861438 |  0.0058447594199316 |  2.5522889599662122 |  0.0000000000000000 |  1.0100000001716014\n",
      "   [t] - [t-dt]: -0.0001348463705613 | -0.0002696927411209 |  0.0001348463705595 |  0.0000000000000000 | -0.0000000000000002\n",
      "   [t] - [0]   :  0.0016554174450896 |  0.0033108348901838 | -0.0016554174450940 |  0.0000000000000000 | -0.0000000000000016\n",
      "\n",
      "T step: 5\n",
      "                           u         |           h         |           q         |           K         |            F\n",
      "   Newton error:  0.0509218500345569 |  0.0163284959789946 |  0.0000000000000039 |  0.0054331306066594 |  0.0507723012804767\n",
      "   Newton error:  0.0000690614150572 |  0.0000541900163888 |  0.0000000000000060 |  0.0007122079497143 |  0.0003823457370536\n",
      "   Newton error:  0.0000001432815364 |  0.0000001133773002 |  0.0000000000000088 |  0.0000000046447921 |  0.0000005866199639\n",
      "   Newton error:  0.0000000004658301 |  0.0000000002847488 |  0.0000000000000088 |  0.0000000000215299 |  0.0000000009378068\n",
      "   Newton error:  0.0000000000009212 |  0.0000000000005913 |  0.0000000000000073 |  0.0000000000000486 |  0.0000000000027558\n",
      "\n",
      "                          K+P        |           K         |           P         |           E         |            V\n",
      "   Diagnostics :  2.5580319909018723 |  0.0056413024513901 |  2.5523906884504823 |  0.0000000000000000 |  1.0100000001716019\n",
      "   [t] - [t-dt]: -0.0001017284842715 | -0.0002034569685415 |  0.0001017284842701 |  0.0000000000000000 |  0.0000000000000004\n",
      "   [t] - [0]   :  0.0015536889608181 |  0.0031073779216423 | -0.0015536889608239 |  0.0000000000000000 | -0.0000000000000011\n",
      "\n",
      "T step: 6\n",
      "                           u         |           h         |           q         |           K         |            F\n",
      "   Newton error:  0.0511456793693386 |  0.0161168635547779 |  0.0000000000000041 |  0.0049554725866109 |  0.0505556656445046\n",
      "   Newton error:  0.0000929538315443 |  0.0000592084606960 |  0.0000000000000065 |  0.0006987931629031 |  0.0003627159202630\n",
      "   Newton error:  0.0000001987739545 |  0.0000001233802866 |  0.0000000000000057 |  0.0000000072933578 |  0.0000005825745346\n",
      "   Newton error:  0.0000000002353735 |  0.0000000001588955 |  0.0000000000000073 |  0.0000000000114099 |  0.0000000008416886\n",
      "   Newton error:  0.0000000000002212 |  0.0000000000001610 |  0.0000000000000085 |  0.0000000000000112 |  0.0000000000012748\n",
      "\n",
      "                          K+P        |           K         |           P         |           E         |            V\n",
      "   Diagnostics :  2.5579538965551332 |  0.0054851137579044 |  2.5524687827972286 |  0.0000000000000000 |  1.0100000001716025\n",
      "   [t] - [t-dt]: -0.0000780943467391 | -0.0001561886934857 |  0.0000780943467462 |  0.0000000000000000 |  0.0000000000000007\n",
      "   [t] - [0]   :  0.0014755946140790 |  0.0029511892281566 | -0.0014755946140776 |  0.0000000000000000 | -0.0000000000000004\n",
      "\n",
      "T step: 7\n",
      "                           u         |           h         |           q         |           K         |            F\n",
      "   Newton error:  0.0505483771843595 |  0.0162219167289368 |  0.0000000000000045 |  0.0042337986768462 |  0.0499516719283091\n",
      "   Newton error:  0.0000693951704887 |  0.0000462544450070 |  0.0000000000000051 |  0.0005987055086891 |  0.0003245346473924\n",
      "   Newton error:  0.0000001428338725 |  0.0000000889555769 |  0.0000000000000060 |  0.0000000040835698 |  0.0000003994106182\n",
      "   Newton error:  0.0000000002939445 |  0.0000000001635283 |  0.0000000000000054 |  0.0000000000105096 |  0.0000000006305454\n",
      "   Newton error:  0.0000000000003737 |  0.0000000000002431 |  0.0000000000000055 |  0.0000000000000146 |  0.0000000000014026\n",
      "\n",
      "                          K+P        |           K         |           P         |           E         |            V\n",
      "   Diagnostics :  2.5578834849308500 |  0.0053442905093456 |  2.5525391944215046 |  0.0000000000000000 |  1.0100000001716021\n",
      "   [t] - [t-dt]: -0.0000704116242831 | -0.0001408232485589 |  0.0000704116242760 |  0.0000000000000000 | -0.0000000000000004\n",
      "   [t] - [0]   :  0.0014051829897959 |  0.0028103659795977 | -0.0014051829898016 |  0.0000000000000000 | -0.0000000000000009\n",
      "\n",
      "T step: 8\n",
      "                           u         |           h         |           q         |           K         |            F\n",
      "   Newton error:  0.0522178933869318 |  0.0155219096891534 |  0.0000000000000055 |  0.0038561910454195 |  0.0502558237293266\n",
      "   Newton error:  0.0000793148273479 |  0.0000441176624321 |  0.0000000000000074 |  0.0005922159498774 |  0.0002952836511880\n",
      "   Newton error:  0.0000001246633816 |  0.0000000783864665 |  0.0000000000000071 |  0.0000000038240075 |  0.0000003700712076\n",
      "   Newton error:  0.0000000000993822 |  0.0000000000746721 |  0.0000000000000066 |  0.0000000000044853 |  0.0000000004117568\n",
      "   Newton error:  0.0000000000001714 |  0.0000000000001049 |  0.0000000000000067 |  0.0000000000000043 |  0.0000000000006568\n",
      "\n",
      "                          K+P        |           K         |           P         |           E         |            V\n",
      "   Diagnostics :  2.5578812011854164 |  0.0053397230184787 |  2.5525414781669378 |  0.0000000000000000 |  1.0100000001716021\n",
      "   [t] - [t-dt]: -0.0000022837454337 | -0.0000045674908669 |  0.0000022837454332 |  0.0000000000000000 |  0.0000000000000000\n",
      "   [t] - [0]   :  0.0014028992443622 |  0.0028057984887309 | -0.0014028992443684 |  0.0000000000000000 | -0.0000000000000009\n",
      "\n",
      "T step: 9\n",
      "                           u         |           h         |           q         |           K         |            F\n",
      "   Newton error:  0.0518334424566661 |  0.0155361741923537 |  0.0000000000000047 |  0.0038135911777189 |  0.0516831777079763\n",
      "   Newton error:  0.0000639683710254 |  0.0000385710103091 |  0.0000000000000074 |  0.0005836228036599 |  0.0002691418139665\n",
      "   Newton error:  0.0000001011007360 |  0.0000000604819329 |  0.0000000000000072 |  0.0000000025057613 |  0.0000003077393212\n",
      "   Newton error:  0.0000000001756301 |  0.0000000000971340 |  0.0000000000000081 |  0.0000000000055778 |  0.0000000004096820\n",
      "   Newton error:  0.0000000000002020 |  0.0000000000001323 |  0.0000000000000089 |  0.0000000000000066 |  0.0000000000008219\n",
      "\n",
      "                          K+P        |           K         |           P         |           E         |            V\n",
      "   Diagnostics :  2.5581010148797816 |  0.0057793504072077 |  2.5523216644725739 |  0.0000000000000000 |  1.0100000001716019\n",
      "   [t] - [t-dt]:  0.0002198136943652 |  0.0004396273887290 | -0.0002198136943639 |  0.0000000000000000 | -0.0000000000000002\n",
      "   [t] - [0]   :  0.0016227129387274 |  0.0032454258774599 | -0.0016227129387323 |  0.0000000000000000 | -0.0000000000000011\n",
      "\n",
      "T step: 10\n",
      "                           u         |           h         |           q         |           K         |            F\n",
      "   Newton error:  0.0442502389771962 |  0.0177165768491620 |  0.0000000000000041 |  0.0030570674888159 |  0.0471212961615523\n",
      "   Newton error:  0.0000680486304883 |  0.0000405103269972 |  0.0000000000000058 |  0.0004256641926643 |  0.0002475348940482\n",
      "   Newton error:  0.0000000835537960 |  0.0000000534349770 |  0.0000000000000054 |  0.0000000023419324 |  0.0000002654359890\n",
      "   Newton error:  0.0000000000623855 |  0.0000000000443540 |  0.0000000000000071 |  0.0000000000021734 |  0.0000000002787765\n",
      "   Newton error:  0.0000000000001153 |  0.0000000000000643 |  0.0000000000000078 |  0.0000000000000029 |  0.0000000000003380\n",
      "\n",
      "                          K+P        |           K         |           P         |           E         |            V\n",
      "   Diagnostics :  2.5581329906129309 |  0.0058433018735010 |  2.5522896887394300 |  0.0000000000000000 |  1.0100000001716021\n",
      "   [t] - [t-dt]:  0.0000319757331493 |  0.0000639514662934 | -0.0000319757331440 |  0.0000000000000000 |  0.0000000000000002\n",
      "   [t] - [0]   :  0.0016546886718767 |  0.0033093773437532 | -0.0016546886718762 |  0.0000000000000000 | -0.0000000000000009\n",
      "\n",
      "T step: 11\n",
      "                           u         |           h         |           q         |           K         |            F\n",
      "   Newton error:  0.0427968907899750 |  0.0179671301939594 |  0.0000000000000036 |  0.0031205476248418 |  0.0406507762944366\n",
      "   Newton error:  0.0000630912909617 |  0.0000295007595506 |  0.0000000000000048 |  0.0004030120730282 |  0.0002209756127101\n",
      "   Newton error:  0.0000000785769936 |  0.0000000450307438 |  0.0000000000000069 |  0.0000000016312270 |  0.0000002175728970\n",
      "   Newton error:  0.0000000001024447 |  0.0000000000567449 |  0.0000000000000076 |  0.0000000000033583 |  0.0000000002450348\n",
      "   Newton error:  0.0000000000000919 |  0.0000000000000640 |  0.0000000000000058 |  0.0000000000000026 |  0.0000000000003819\n",
      "\n",
      "                          K+P        |           K         |           P         |           E         |            V\n",
      "   Diagnostics :  2.5574491487758051 |  0.0044756181992507 |  2.5529735305765544 |  0.0000000000000000 |  1.0100000001716030\n",
      "   [t] - [t-dt]: -0.0006838418371258 | -0.0013676836742503 |  0.0006838418371244 |  0.0000000000000000 |  0.0000000000000009\n",
      "   [t] - [0]   :  0.0009708468347509 |  0.0019416936695029 | -0.0009708468347518 |  0.0000000000000000 |  0.0000000000000000\n",
      "\n",
      "T step: 12\n",
      "                           u         |           h         |           q         |           K         |            F\n",
      "   Newton error:  0.0541047067378403 |  0.0144147240822737 |  0.0000000000000040 |  0.0041055237277523 |  0.0472128710798494\n",
      "   Newton error:  0.0000739764127345 |  0.0000300330335074 |  0.0000000000000065 |  0.0006947574538837 |  0.0001970081873276\n",
      "   Newton error:  0.0000000497730470 |  0.0000000330747442 |  0.0000000000000068 |  0.0000000014884513 |  0.0000002052748463\n",
      "   Newton error:  0.0000000000352749 |  0.0000000000235860 |  0.0000000000000088 |  0.0000000000008491 |  0.0000000001621411\n",
      "   Newton error:  0.0000000000000465 |  0.0000000000000283 |  0.0000000000000088 |  0.0000000000000010 |  0.0000000000001397\n",
      "\n",
      "                          K+P        |           K         |           P         |           E         |            V\n",
      "   Diagnostics :  2.5566226587596659 |  0.0028226381669777 |  2.5538000205926883 |  0.0000000000000000 |  1.0100000001716027\n",
      "   [t] - [t-dt]: -0.0008264900161392 | -0.0016529800322730 |  0.0008264900161339 |  0.0000000000000000 | -0.0000000000000002\n",
      "   [t] - [0]   :  0.0001443568186117 |  0.0002887136372299 | -0.0001443568186179 |  0.0000000000000000 | -0.0000000000000002\n",
      "\n",
      "T step: 13\n",
      "                           u         |           h         |           q         |           K         |            F\n",
      "   Newton error:  0.0592402391786179 |  0.0121189131487901 |  0.0000000000000041 |  0.0027909384299641 |  0.0569384660858654\n",
      "   Newton error:  0.0000705707044355 |  0.0000234403447371 |  0.0000000000000060 |  0.0007980815699847 |  0.0001614634189929\n",
      "   Newton error:  0.0000000541720806 |  0.0000000328839510 |  0.0000000000000078 |  0.0000000012030319 |  0.0000001726360215\n",
      "   Newton error:  0.0000000000536145 |  0.0000000000318256 |  0.0000000000000073 |  0.0000000000015428 |  0.0000000001569523\n",
      "   Newton error:  0.0000000000000475 |  0.0000000000000344 |  0.0000000000000085 |  0.0000000000000010 |  0.0000000000001998\n",
      "\n",
      "                          K+P        |           K         |           P         |           E         |            V\n",
      "   Diagnostics :  2.5566588459286348 |  0.0028950125049159 |  2.5537638334237189 |  0.0000000000000000 |  1.0100000001716016\n",
      "   [t] - [t-dt]:  0.0000361871689689 |  0.0000723743379381 | -0.0000361871689694 |  0.0000000000000000 | -0.0000000000000011\n",
      "   [t] - [0]   :  0.0001805439875806 |  0.0003610879751681 | -0.0001805439875873 |  0.0000000000000000 | -0.0000000000000013\n",
      "\n",
      "T step: 14\n",
      "                           u         |           h         |           q         |           K         |            F\n",
      "   Newton error:  0.0520100146446012 |  0.0151125281351002 |  0.0000000000000042 |  0.0027413342984616 |  0.0553378055930493\n",
      "   Newton error:  0.0000511990566467 |  0.0000277451106017 |  0.0000000000000079 |  0.0005882836256205 |  0.0001465429696706\n",
      "   Newton error:  0.0000000259572400 |  0.0000000200107512 |  0.0000000000000074 |  0.0000000005369330 |  0.0000001978260867\n",
      "   Newton error:  0.0000000000210758 |  0.0000000000135972 |  0.0000000000000067 |  0.0000000000002256 |  0.0000000000548699\n",
      "\n",
      "                          K+P        |           K         |           P         |           E         |            V\n",
      "   Diagnostics :  2.5574034912727233 |  0.0043843031930873 |  2.5530191880796358 |  0.0000000000000000 |  1.0100000001716021\n",
      "   [t] - [t-dt]:  0.0007446453440885 |  0.0014892906881715 | -0.0007446453440831 |  0.0000000000000000 |  0.0000000000000004\n",
      "   [t] - [0]   :  0.0009251893316691 |  0.0018503786633395 | -0.0009251893316704 |  0.0000000000000000 | -0.0000000000000009\n",
      "\n",
      "T step: 15\n",
      "                           u         |           h         |           q         |           K         |            F\n",
      "   Newton error:  0.0455453901863304 |  0.0170703304982879 |  0.0000000000000036 |  0.0026733918768005 |  0.0467215959577052\n",
      "   Newton error:  0.0000503250496448 |  0.0000279799619225 |  0.0000000000000058 |  0.0004688290709348 |  0.0001510336655852\n",
      "   Newton error:  0.0000000268369057 |  0.0000000196413335 |  0.0000000000000059 |  0.0000000008678139 |  0.0000001381558650\n",
      "   Newton error:  0.0000000000270226 |  0.0000000000154967 |  0.0000000000000071 |  0.0000000000005693 |  0.0000000001243690\n",
      "   Newton error:  0.0000000000000111 |  0.0000000000000093 |  0.0000000000000068 |  0.0000000000000004 |  0.0000000000000803\n",
      "\n",
      "                          K+P        |           K         |           P         |           E         |            V\n",
      "   Diagnostics :  2.5580090880315169 |  0.0055954967106734 |  2.5524135913208434 |  0.0000000000000000 |  1.0100000001716027\n",
      "   [t] - [t-dt]:  0.0006055967587937 |  0.0012111935175861 | -0.0006055967587923 |  0.0000000000000000 |  0.0000000000000007\n",
      "   [t] - [0]   :  0.0015307860904628 |  0.0030615721809256 | -0.0015307860904628 |  0.0000000000000000 | -0.0000000000000002\n",
      "\n",
      "T step: 16\n",
      "                           u         |           h         |           q         |           K         |            F\n",
      "   Newton error:  0.0466349331031944 |  0.0167648736350952 |  0.0000000000000046 |  0.0019881491872413 |  0.0442904393939160\n",
      "   Newton error:  0.0000472458790181 |  0.0000238730986191 |  0.0000000000000052 |  0.0004559126670987 |  0.0001578540844743\n",
      "   Newton error:  0.0000000391672065 |  0.0000000275313414 |  0.0000000000000064 |  0.0000000014443981 |  0.0000001310313823\n",
      "   Newton error:  0.0000000000481140 |  0.0000000000314971 |  0.0000000000000060 |  0.0000000000008632 |  0.0000000002026078\n",
      "   Newton error:  0.0000000000000232 |  0.0000000000000163 |  0.0000000000000069 |  0.0000000000000007 |  0.0000000000001974\n",
      "\n",
      "                          K+P        |           K         |           P         |           E         |            V\n",
      "   Diagnostics :  2.5582562246675171 |  0.0060897699826802 |  2.5521664546848370 |  0.0000000000000000 |  1.0100000001716027\n",
      "   [t] - [t-dt]:  0.0002471366360002 |  0.0004942732720067 | -0.0002471366360064 | -0.0000000000000000 |  0.0000000000000000\n",
      "   [t] - [0]   :  0.0017779227264629 |  0.0035558454529323 | -0.0017779227264691 |  0.0000000000000000 | -0.0000000000000002\n",
      "\n",
      "T step: 17\n",
      "                           u         |           h         |           q         |           K         |            F\n",
      "   Newton error:  0.0450094376776032 |  0.0172325356380983 |  0.0000000000000045 |  0.0025276342714764 |  0.0441913169639724\n",
      "   Newton error:  0.0000443654964953 |  0.0000235930754907 |  0.0000000000000077 |  0.0003772759292140 |  0.0001653321925488\n",
      "   Newton error:  0.0000000262328968 |  0.0000000178672042 |  0.0000000000000095 |  0.0000000009974980 |  0.0000001198266656\n",
      "   Newton error:  0.0000000000191584 |  0.0000000000126014 |  0.0000000000000071 |  0.0000000000005733 |  0.0000000000710950\n",
      "   Newton error:  0.0000000000000259 |  0.0000000000000146 |  0.0000000000000081 |  0.0000000000000006 |  0.0000000000000809\n",
      "\n",
      "                          K+P        |           K         |           P         |           E         |            V\n",
      "   Diagnostics :  2.5581413988117743 |  0.0058601182711973 |  2.5522812805405768 |  0.0000000000000000 |  1.0100000001716025\n",
      "   [t] - [t-dt]: -0.0001148258557429 | -0.0002296517114828 |  0.0001148258557397 |  0.0000000000000000 | -0.0000000000000002\n",
      "   [t] - [0]   :  0.0016630968707201 |  0.0033261937414495 | -0.0016630968707294 |  0.0000000000000000 | -0.0000000000000004\n",
      "\n",
      "T step: 18\n",
      "                           u         |           h         |           q         |           K         |            F\n",
      "   Newton error:  0.0467810830357501 |  0.0166733358093750 |  0.0000000000000033 |  0.0029901471183393 |  0.0434952753079924\n",
      "   Newton error:  0.0000528972761396 |  0.0000243733320759 |  0.0000000000000061 |  0.0004354197030872 |  0.0001626618935456\n",
      "   Newton error:  0.0000000363642618 |  0.0000000242405202 |  0.0000000000000076 |  0.0000000012778363 |  0.0000001143332678\n",
      "   Newton error:  0.0000000000286437 |  0.0000000000168839 |  0.0000000000000065 |  0.0000000000008551 |  0.0000000000815389\n",
      "   Newton error:  0.0000000000000191 |  0.0000000000000114 |  0.0000000000000079 |  0.0000000000000006 |  0.0000000000000586\n",
      "\n",
      "                          K+P        |           K         |           P         |           E         |            V\n",
      "   Diagnostics :  2.5576023921297821 |  0.0047821049072112 |  2.5528202872225711 |  0.0000000000000000 |  1.0100000001716027\n",
      "   [t] - [t-dt]: -0.0005390066819921 | -0.0010780133639861 |  0.0005390066819944 |  0.0000000000000000 |  0.0000000000000002\n",
      "   [t] - [0]   :  0.0011240901887279 |  0.0022481803774634 | -0.0011240901887350 |  0.0000000000000000 | -0.0000000000000002\n",
      "\n",
      "T step: 19\n",
      "                           u         |           h         |           q         |           K         |            F\n",
      "   Newton error:  0.0541730371383130 |  0.0141648824376435 |  0.0000000000000035 |  0.0029594173106924 |  0.0497795762620949\n",
      "   Newton error:  0.0000772579736899 |  0.0000214882305849 |  0.0000000000000073 |  0.0006804290295704 |  0.0001380173075360\n",
      "   Newton error:  0.0000000586503966 |  0.0000000349548270 |  0.0000000000000063 |  0.0000000024365727 |  0.0000001603242605\n",
      "   Newton error:  0.0000000001088096 |  0.0000000000551430 |  0.0000000000000072 |  0.0000000000027029 |  0.0000000002075430\n",
      "   Newton error:  0.0000000000001530 |  0.0000000000000784 |  0.0000000000000063 |  0.0000000000000040 |  0.0000000000002717\n",
      "\n",
      "                          K+P        |           K         |           P         |           E         |            V\n",
      "   Diagnostics :  2.5571935847345397 |  0.0039644901167230 |  2.5532290946178167 |  0.0000000000000000 |  1.0100000001716021\n",
      "   [t] - [t-dt]: -0.0004088073952424 | -0.0008176147904882 |  0.0004088073952455 |  0.0000000000000000 | -0.0000000000000007\n",
      "   [t] - [0]   :  0.0007152827934855 |  0.0014305655869752 | -0.0007152827934895 |  0.0000000000000000 | -0.0000000000000009\n"
     ]
    }
   ],
   "source": [
    "for time_step in range(0, n_t_steps):\n",
    "    print(\"\\nT step: \" + str(time_step))\n",
    "\n",
    "    # Reinitialize initial conditions\n",
    "    u_0.assign(u_1)\n",
    "    h_0.assign(h_1)\n",
    "    q_0.assign(q_1)\n",
    "    K_0.assign(K_1)\n",
    "    F_0.assign(F_1)\n",
    "\n",
    "    # Step in time\n",
    "    if time_integrator == \"midpoint\":\n",
    "        advance_mid_point_newton(u_0, u_1, h_0, h_1, q_0, q_1, K_0, K_1, F_0, F_1, G, D, S, dt)\n",
    "    elif time_integrator == \"poisson\":\n",
    "        advance_poisson_newton(u_0, u_1, h_0, h_1, q_0, q_1, K_0, K_1, F_0, F_1, G, D, S, dt)\n",
    "    else:\n",
    "        raise Exception(\"Type of time integrator not recognized, you can use: midpoint or poisson\")\n",
    "    \n",
    "    # Export the solutions to paraview \n",
    "    sol_outfile.write(u_1, h_1, q_1, K_1, F_1, time = dt*time_step)\n",
    "\n",
    "    # Compute simulation diagnostics\n",
    "    # Energy\n",
    "    if time_integrator == \"midpoint\":\n",
    "        energy_K[time_step] = 0.25*firedrake.assemble(firedrake.inner(u_1 + u_0, F_1)*firedrake.dx)\n",
    "        energy_P[time_step] = 0.25*firedrake.assemble(firedrake.inner(h_1+h_0, 0.5*g*(h_1+h_0))*firedrake.dx)\n",
    "        energy[time_step] = energy_K[time_step] + energy_P[time_step]\n",
    "    elif time_integrator == \"poisson\":\n",
    "        energy_K[time_step] = 0.5*firedrake.assemble(firedrake.inner(u_1, u_1*h_1)*firedrake.dx)\n",
    "        energy_P[time_step] = 0.5*firedrake.assemble(firedrake.inner(h_1, 0.5*g*h_1)*firedrake.dx)\n",
    "        energy[time_step] = energy_K[time_step] + energy_P[time_step]\n",
    "    else:\n",
    "        raise Exception(\"Type of time integrator not recognized, you can use: midpoint or poisson\")\n",
    "    \n",
    "    # Potential enstrophy\n",
    "    enstrophy[time_step] = 0.5*firedrake.assemble(firedrake.inner(h_1*q_1, q_1)*firedrake.dx)\n",
    "    \n",
    "    # Volume\n",
    "    volume[time_step] = firedrake.assemble(h_1*firedrake.dx)\n",
    "\n",
    "    # Print diagnostics\n",
    "    print(\"\\n                          K+P        |           K         |           P         |           E         |            V\")\n",
    "    print(\"   Diagnostics : {energy:19.16f} | {energy_K:19.16f} | {energy_P:19.16f} | \"\\\n",
    "                \"{enstrophy:19.16f} | {volume:19.16f}\".format(energy=energy[time_step], \\\n",
    "                energy_K=energy_K[time_step], energy_P=energy_P[time_step], enstrophy=enstrophy[time_step], \\\n",
    "                volume=volume[time_step]))\n",
    "    print(\"   [t] - [t-dt]: {denergy:19.16f} | {denergy_K:19.16f} | {denergy_P:19.16f} | \"\\\n",
    "                \"{denstrophy:19.16f} | {dvolume:19.16f}\".format(denergy=energy[time_step]-energy[time_step-1], \\\n",
    "                denergy_K=energy_K[time_step]-energy_K[time_step-1], denergy_P=energy_P[time_step]-energy_P[time_step-1], \\\n",
    "                denstrophy=enstrophy[time_step]-enstrophy[time_step-1], dvolume=volume[time_step]-volume[time_step-1]))\n",
    "    print(\"   [t] - [0]   : {denergy:19.16f} | {denergy_K:19.16f} | {denergy_P:19.16f} | \"\\\n",
    "                \"{denstrophy:19.16f} | {dvolume:19.16f}\".format(denergy=energy[time_step]-energy[0], \\\n",
    "                denergy_K=energy_K[time_step]-energy_K[0], denergy_P=energy_P[time_step]-energy_P[0], \\\n",
    "                denstrophy=enstrophy[time_step]-enstrophy[0], dvolume=volume[time_step]-volume[0]))\n",
    "    \n",
    "    # Save diagnostics to file each time step (to be safe)\n",
    "    diagnostics_filename = results_path + \"diagnostics.npz\"\n",
    "    numpy.savez(diagnostics_filename, energy=energy, energy_K=energy_K, energy_P=energy_P, enstrophy=enstrophy, volume=volume)\n",
    "    \n",
    "    # Update the time step\n",
    "    time_step += 1"
   ]
  },
  {
   "cell_type": "markdown",
   "id": "ffa5e631",
   "metadata": {},
   "source": [
    "### Save results to file \n"
   ]
  },
  {
   "cell_type": "code",
   "execution_count": 20,
   "id": "e6746005",
   "metadata": {},
   "outputs": [],
   "source": [
    "diagnostics_filename = results_path + \"diagnostics.npz\"\n",
    "numpy.savez(diagnostics_filename, energy=energy, energy_K=energy_K, energy_P=energy_P, enstrophy=enstrophy, volume=volume)"
   ]
  },
  {
   "cell_type": "markdown",
   "id": "e6d28357",
   "metadata": {},
   "source": [
    "### Plot the diagnostics results\n"
   ]
  },
  {
   "cell_type": "code",
   "execution_count": 21,
   "id": "c77da747",
   "metadata": {},
   "outputs": [
    {
     "data": {
      "image/png": "[encoded data removed]",
      "text/plain": [
       "<Figure size 640x480 with 1 Axes>"
      ]
     },
     "metadata": {},
     "output_type": "display_data"
    },
    {
     "data": {
      "image/png": "[encoded data removed]",
      "text/plain": [
       "<Figure size 640x480 with 1 Axes>"
      ]
     },
     "metadata": {},
     "output_type": "display_data"
    },
    {
     "data": {
      "image/png": "[encoded data removed]",
      "text/plain": [
       "<Figure size 640x480 with 1 Axes>"
      ]
     },
     "metadata": {},
     "output_type": "display_data"
    }
   ],
   "source": [
    "#  Energy\n",
    "pyplot.figure()\n",
    "pyplot.plot(numpy.arange(0, n_t_steps)*dt, energy)\n",
    "pyplot.title(\"Energy\")\n",
    "pyplot.xlabel(\"t (s)\")\n",
    "energy_plot_filename = results_path + \"energy.pdf\"\n",
    "pyplot.savefig(energy_plot_filename, format='pdf', dpi=200)\n",
    "\n",
    "#  Potential enstrophy\n",
    "pyplot.figure()\n",
    "pyplot.plot(numpy.arange(0, n_t_steps)*dt, enstrophy)\n",
    "pyplot.title(\"Potential Enstrophy\")\n",
    "pyplot.xlabel(\"t (s)\")\n",
    "energy_plot_filename = results_path + \"enstrophy.pdf\"\n",
    "pyplot.savefig(energy_plot_filename, format='pdf', dpi=200)\n",
    "\n",
    "#  Volume\n",
    "pyplot.figure()\n",
    "pyplot.plot(numpy.arange(0, n_t_steps)*dt, volume)\n",
    "pyplot.title(\"Total volume\")\n",
    "pyplot.xlabel(\"t (s)\")\n",
    "energy_plot_filename = results_path + \"volume.pdf\"\n",
    "pyplot.savefig(energy_plot_filename, format='pdf', dpi=200)\n",
    "\n",
    "pyplot.show()"
   ]
  }
 ],
 "metadata": {
  "jupytext": {
   "cell_metadata_filter": "-all",
   "main_language": "python",
   "notebook_metadata_filter": "-all"
  },
  "language_info": {
   "name": "python"
  }
 },
 "nbformat": 4,
 "nbformat_minor": 5
}
